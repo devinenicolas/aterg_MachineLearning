{
 "cells": [
  {
   "cell_type": "code",
   "execution_count": 1,
   "metadata": {
    "id": "M_MvUNbwAzyM"
   },
   "outputs": [],
   "source": [
    "import numpy as np"
   ]
  },
  {
   "cell_type": "markdown",
   "metadata": {
    "id": "OXI9gLlFd4yM"
   },
   "source": [
    "### Exercice 1:\n",
    "Create a 1-dimensional NumPy array with 5 integers from 0 to 4."
   ]
  },
  {
   "cell_type": "code",
   "execution_count": 3,
   "metadata": {
    "id": "MRBvaaSCVZOS"
   },
   "outputs": [
    {
     "data": {
      "text/plain": [
       "array([0, 1, 2, 3, 4])"
      ]
     },
     "execution_count": 3,
     "metadata": {},
     "output_type": "execute_result"
    }
   ],
   "source": [
    "arr = np.arange(5); arr"
   ]
  },
  {
   "cell_type": "markdown",
   "metadata": {
    "id": "uxF4VxyNdE1f"
   },
   "source": [
    " ### Exercice 2:\n",
    " Create a 2-dimensional NumPy array with shape (2, 3) containing only ones."
   ]
  },
  {
   "cell_type": "code",
   "execution_count": 4,
   "metadata": {
    "id": "cgh73GheVj0G"
   },
   "outputs": [
    {
     "data": {
      "text/plain": [
       "array([[1., 1., 1.],\n",
       "       [1., 1., 1.]])"
      ]
     },
     "execution_count": 4,
     "metadata": {},
     "output_type": "execute_result"
    }
   ],
   "source": [
    "arr = np.ones((2,3)); arr"
   ]
  },
  {
   "cell_type": "markdown",
   "metadata": {
    "id": "5lZ_Kas9dF_a"
   },
   "source": [
    "### Exercice 3:\n",
    "Create a 3-dimensional NumPy array with shape (2, 3, 4) containing only zeros."
   ]
  },
  {
   "cell_type": "code",
   "execution_count": 9,
   "metadata": {
    "id": "7xaPkSPDVlCS"
   },
   "outputs": [
    {
     "data": {
      "text/plain": [
       "array([[[0., 0., 0., 0.],\n",
       "        [0., 0., 0., 0.],\n",
       "        [0., 0., 0., 0.]],\n",
       "\n",
       "       [[0., 0., 0., 0.],\n",
       "        [0., 0., 0., 0.],\n",
       "        [0., 0., 0., 0.]]])"
      ]
     },
     "execution_count": 9,
     "metadata": {},
     "output_type": "execute_result"
    }
   ],
   "source": [
    "arr = np.zeros((2,3,4)); arr"
   ]
  },
  {
   "cell_type": "code",
   "execution_count": 10,
   "metadata": {},
   "outputs": [
    {
     "data": {
      "text/plain": [
       "(2, 3, 4)"
      ]
     },
     "execution_count": 10,
     "metadata": {},
     "output_type": "execute_result"
    }
   ],
   "source": [
    "arr.shape"
   ]
  },
  {
   "cell_type": "markdown",
   "metadata": {
    "id": "0xD6apZpdL4u"
   },
   "source": [
    "### Exercice 4:\n",
    "Create a 2-dimensional NumPy array with shape (3, 4) containing random integers between 0 and 9."
   ]
  },
  {
   "cell_type": "code",
   "execution_count": 23,
   "metadata": {
    "id": "piZgXDK4Prda"
   },
   "outputs": [
    {
     "data": {
      "text/plain": [
       "array([[8, 0, 4, 0],\n",
       "       [8, 7, 0, 1],\n",
       "       [3, 8, 2, 4]])"
      ]
     },
     "execution_count": 23,
     "metadata": {},
     "output_type": "execute_result"
    }
   ],
   "source": [
    "#random.randint(low, high=None, size=None, dtype=int)\n",
    "arr = np.random.randint(9, size=(3, 4)) ; arr"
   ]
  },
  {
   "cell_type": "code",
   "execution_count": 24,
   "metadata": {},
   "outputs": [
    {
     "data": {
      "text/plain": [
       "numpy.ndarray"
      ]
     },
     "execution_count": 24,
     "metadata": {},
     "output_type": "execute_result"
    }
   ],
   "source": [
    "type(arr)"
   ]
  },
  {
   "cell_type": "markdown",
   "metadata": {
    "id": "-Mln-90sdNpw"
   },
   "source": [
    "### Exercice 5:\n",
    "Create a 2-dimensional NumPy array with shape (3, 4) and find its dimensions and size."
   ]
  },
  {
   "cell_type": "code",
   "execution_count": 27,
   "metadata": {
    "id": "zpE8Tj1mPr2o"
   },
   "outputs": [
    {
     "data": {
      "text/plain": [
       "2"
      ]
     },
     "execution_count": 27,
     "metadata": {},
     "output_type": "execute_result"
    }
   ],
   "source": [
    "arr = np.array((3,4))\n",
    "arr.shape\n",
    "arr.size"
   ]
  },
  {
   "cell_type": "markdown",
   "metadata": {
    "id": "JECID7F1dOUe"
   },
   "source": [
    "### Exercice 6:\n",
    "Create a 2-dimensional NumPy array with shape (3, 4) and calculate the sum of all its elements."
   ]
  },
  {
   "cell_type": "code",
   "execution_count": 29,
   "metadata": {
    "id": "j8fNeTqiPsiI"
   },
   "outputs": [
    {
     "data": {
      "text/plain": [
       "7"
      ]
     },
     "execution_count": 29,
     "metadata": {},
     "output_type": "execute_result"
    }
   ],
   "source": [
    "arr = np.array((3,4))\n",
    "np.sum(arr)"
   ]
  },
  {
   "cell_type": "markdown",
   "metadata": {
    "id": "FUEt_rFpdZay"
   },
   "source": [
    "### Exercice 7:\n",
    "Create a 2-dimensional NumPy array with shape (3, 4) and find the minimum and maximum value in each row."
   ]
  },
  {
   "cell_type": "code",
   "execution_count": 31,
   "metadata": {
    "id": "bgsH9u_UPtCs"
   },
   "outputs": [
    {
     "data": {
      "text/plain": [
       "3"
      ]
     },
     "execution_count": 31,
     "metadata": {},
     "output_type": "execute_result"
    }
   ],
   "source": [
    "arr = np.array((3,4))\n",
    "np.min(arr)"
   ]
  },
  {
   "cell_type": "code",
   "execution_count": 32,
   "metadata": {},
   "outputs": [
    {
     "data": {
      "text/plain": [
       "4"
      ]
     },
     "execution_count": 32,
     "metadata": {},
     "output_type": "execute_result"
    }
   ],
   "source": [
    "np.max(arr)"
   ]
  },
  {
   "cell_type": "markdown",
   "metadata": {
    "id": "LCHEvMbLdcWg"
   },
   "source": [
    "### Exercice 8:\n",
    "Create a 2-dimensional NumPy array with shape (3, 4) and replace all the odd numbers with -1."
   ]
  },
  {
   "cell_type": "code",
   "execution_count": 33,
   "metadata": {
    "id": "cnh8SjuSPtjP"
   },
   "outputs": [],
   "source": [
    "arr = np.array((3,4))"
   ]
  },
  {
   "cell_type": "code",
   "execution_count": 34,
   "metadata": {},
   "outputs": [
    {
     "data": {
      "text/plain": [
       "array([3, 4])"
      ]
     },
     "execution_count": 34,
     "metadata": {},
     "output_type": "execute_result"
    }
   ],
   "source": [
    "arr"
   ]
  },
  {
   "cell_type": "markdown",
   "metadata": {
    "id": "ZiFcLInIdfOK"
   },
   "source": [
    "### Exercice 9:\n",
    "Create a 2-dimensional NumPy array with shape (3, 4) and extract the elements in the second and third row and the second and third column."
   ]
  },
  {
   "cell_type": "code",
   "execution_count": null,
   "metadata": {
    "id": "ZaVIzEeeWA_H"
   },
   "outputs": [],
   "source": [
    "arr = np.array((3,4))"
   ]
  },
  {
   "cell_type": "markdown",
   "metadata": {
    "id": "xmRnLq1bdhaN"
   },
   "source": [
    "### Exercice 10:\n",
    "Create a 2-dimensional NumPy array with shape (3, 4) and multiply each element by 2."
   ]
  },
  {
   "cell_type": "code",
   "execution_count": 35,
   "metadata": {
    "id": "uNShpo4RKl-J"
   },
   "outputs": [
    {
     "name": "stdout",
     "output_type": "stream",
     "text": [
      "[6 8]\n"
     ]
    }
   ],
   "source": [
    "arr = np.array((3,4))\n",
    "print(arr*2)"
   ]
  }
 ],
 "metadata": {
  "colab": {
   "provenance": []
  },
  "kernelspec": {
   "display_name": "Python 3 (ipykernel)",
   "language": "python",
   "name": "python3"
  },
  "language_info": {
   "codemirror_mode": {
    "name": "ipython",
    "version": 3
   },
   "file_extension": ".py",
   "mimetype": "text/x-python",
   "name": "python",
   "nbconvert_exporter": "python",
   "pygments_lexer": "ipython3",
   "version": "3.9.13"
  }
 },
 "nbformat": 4,
 "nbformat_minor": 1
}
